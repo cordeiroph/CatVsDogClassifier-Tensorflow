{
 "cells": [
  {
   "cell_type": "markdown",
   "metadata": {},
   "source": [
    "# Cat vs Dog Classifier\n",
    "\n",
    "This is a solution for the Dog vs cat kaggle competition\n",
    "https://www.kaggle.com/c/dogs-vs-cats/\n",
    "\n",
    "Using Convolutional Neural Network"
   ]
  },
  {
   "cell_type": "code",
   "execution_count": 2,
   "metadata": {},
   "outputs": [],
   "source": [
    "import numpy as np\n",
    "import matplotlib.pyplot as plt\n",
    "import os\n",
    "import cv2\n",
    "import pandas as pd\n",
    "from sklearn.model_selection import train_test_split \n",
    "from tensorflow.keras.preprocessing.image import ImageDataGenerator\n",
    "from tensorflow.keras.models import Sequential\n",
    "from tensorflow.keras.layers import Dense, Dropout, Activation, Flatten\n",
    "from tensorflow.keras.layers import Conv2D, MaxPooling2D\n",
    "from tensorflow.keras.callbacks import TensorBoard\n",
    "import random\n",
    "\n",
    "#TRAIN_DIR = '/home/phrc/Documents/ml3 assigment/Project3_files/data/train'\n",
    "TRAIN_DIR = '/home/phrc/Documents/ml3 assigment/images/train'\n",
    "\n",
    "TEST_DIR = '/home/phrc/Documents/ml3 assigment/Project3_files/data/test'\n",
    "IMG_SIZE = 96\n",
    "\n",
    "import tensorflow as tf\n",
    "tf.reset_default_graph()\n",
    "\n",
    "gpu_options = tf.GPUOptions(per_process_gpu_memory_fraction=0.8)\n",
    "session = tf.InteractiveSession(config=tf.ConfigProto(gpu_options=gpu_options))"
   ]
  },
  {
   "cell_type": "code",
   "execution_count": 2,
   "metadata": {},
   "outputs": [],
   "source": [
    "def labelImage(img):\n",
    "    label = img.split('.')[0]\n",
    "    if label == 'cat': \n",
    "        return 1\n",
    "    elif label == 'dog': \n",
    "        return 0\n",
    "    else:\n",
    "        return -1\n",
    "    \n",
    "#def createData(directory, color=cv2.IMREAD_GRAYSCALE):\n",
    "def createData(directory, color=cv2.COLOR_RGBA2RGB):\n",
    "    X = []\n",
    "    for img in os.listdir(directory):\n",
    "        label = labelImage(img)\n",
    "        img = cv2.imread(os.path.join(directory,img), color)\n",
    "        img  = cv2.resize(img, (IMG_SIZE,IMG_SIZE))\n",
    "        X.append([img, label])\n",
    "    return X"
   ]
  },
  {
   "cell_type": "code",
   "execution_count": 3,
   "metadata": {},
   "outputs": [
    {
     "name": "stdout",
     "output_type": "stream",
     "text": [
      "25000\n"
     ]
    }
   ],
   "source": [
    "training_data = createData(TRAIN_DIR)\n",
    "\n",
    "random.shuffle(training_data)\n",
    "\n",
    "x_data = []\n",
    "y_data = []\n",
    "\n",
    "for features,label in training_data:\n",
    "    x_data.append(features)\n",
    "    y_data.append(label)\n",
    "\n",
    "\n",
    "x_data = np.array(x_data).reshape(-1, IMG_SIZE, IMG_SIZE, 3)\n",
    "x_data = x_data/255.0\n",
    "\n",
    "print(len(x_data))"
   ]
  },
  {
   "cell_type": "code",
   "execution_count": 4,
   "metadata": {},
   "outputs": [],
   "source": [
    "def createModel(convSizeValues):\n",
    "\n",
    "    model = Sequential()\n",
    "\n",
    "    model.add(Conv2D(convSizeValues[0], (3, 3), input_shape=x_data.shape[1:]))\n",
    "    model.add(Activation('relu'))\n",
    "    \n",
    "    for i in range(1, len(convSizeValues)):\n",
    "        model.add(Conv2D(convSizeValues[i], (3, 3)))\n",
    "        model.add(Activation('relu'))\n",
    "        model.add(MaxPooling2D(pool_size=(2, 2)))\n",
    "\n",
    "    model.add(Flatten())  # this converts our 3D feature maps to 1D feature vectors\n",
    "\n",
    "    model.add(Dense(64))\n",
    "\n",
    "    model.add(Dense(1))\n",
    "    model.add(Activation('sigmoid'))\n",
    "\n",
    "    tensorboard = TensorBoard(log_dir=\"log/{0} - {1}\".format(len(convSizeValues), ','.join([str(i) for i in convSizeValues])), histogram_freq=1, write_graph=True, write_images=True)\n",
    "\n",
    "    model.compile(loss='binary_crossentropy',\n",
    "                  optimizer='adam',\n",
    "                  metrics=['accuracy'],\n",
    "                  )\n",
    "\n",
    "    model.fit(x_data, y_data,\n",
    "              batch_size=32,\n",
    "              epochs=10,\n",
    "              validation_split=0.3,\n",
    "              callbacks=[tensorboard])\n"
   ]
  },
  {
   "cell_type": "code",
   "execution_count": 5,
   "metadata": {},
   "outputs": [
    {
     "name": "stdout",
     "output_type": "stream",
     "text": [
      "WARNING:tensorflow:From /home/phrc/.local/lib/python3.6/site-packages/tensorflow/python/ops/resource_variable_ops.py:435: colocate_with (from tensorflow.python.framework.ops) is deprecated and will be removed in a future version.\n",
      "Instructions for updating:\n",
      "Colocations handled automatically by placer.\n",
      "Train on 17500 samples, validate on 7500 samples\n",
      "WARNING:tensorflow:From /home/phrc/.local/lib/python3.6/site-packages/tensorflow/python/ops/math_ops.py:3066: to_int32 (from tensorflow.python.ops.math_ops) is deprecated and will be removed in a future version.\n",
      "Instructions for updating:\n",
      "Use tf.cast instead.\n",
      "Epoch 1/10\n",
      "17500/17500 [==============================] - 591s 34ms/sample - loss: 0.6853 - acc: 0.5877 - val_loss: 0.6322 - val_acc: 0.6484\n",
      "Epoch 2/10\n",
      "17500/17500 [==============================] - 639s 37ms/sample - loss: 0.6029 - acc: 0.6829 - val_loss: 0.5868 - val_acc: 0.6941\n",
      "Epoch 3/10\n",
      "17500/17500 [==============================] - 765s 44ms/sample - loss: 0.5553 - acc: 0.7232 - val_loss: 0.5201 - val_acc: 0.7496\n",
      "Epoch 4/10\n",
      "17500/17500 [==============================] - 671s 38ms/sample - loss: 0.4750 - acc: 0.7779 - val_loss: 0.4865 - val_acc: 0.7651\n",
      "Epoch 5/10\n",
      "17500/17500 [==============================] - 785s 45ms/sample - loss: 0.4149 - acc: 0.8101 - val_loss: 0.4544 - val_acc: 0.7899\n",
      "Epoch 6/10\n",
      "17500/17500 [==============================] - 824s 47ms/sample - loss: 0.3643 - acc: 0.8377 - val_loss: 0.4648 - val_acc: 0.7892\n",
      "Epoch 7/10\n",
      "17500/17500 [==============================] - 701s 40ms/sample - loss: 0.3056 - acc: 0.8689 - val_loss: 0.5118 - val_acc: 0.7803\n",
      "Epoch 8/10\n",
      "17500/17500 [==============================] - 626s 36ms/sample - loss: 0.2409 - acc: 0.8973 - val_loss: 0.5310 - val_acc: 0.7967\n",
      "Epoch 9/10\n",
      "17500/17500 [==============================] - 621s 35ms/sample - loss: 0.1927 - acc: 0.9207 - val_loss: 0.6063 - val_acc: 0.7883\n",
      "Epoch 10/10\n",
      "17500/17500 [==============================] - 614s 35ms/sample - loss: 0.1490 - acc: 0.9409 - val_loss: 0.6375 - val_acc: 0.7884\n"
     ]
    }
   ],
   "source": [
    "#model1 = createModel([32, 32, 32])\n",
    "#model2 = createModel([64, 64, 64])\n",
    "model3 = createModel([128, 128, 128])\n",
    "#model4 = createModel([32, 64, 128])"
   ]
  },
  {
   "cell_type": "code",
   "execution_count": 3,
   "metadata": {},
   "outputs": [
    {
     "name": "stdout",
     "output_type": "stream",
     "text": [
      "The tensorboard.notebook extension is already loaded. To reload it, use:\n",
      "  %reload_ext tensorboard.notebook\n"
     ]
    },
    {
     "data": {
      "text/plain": [
       "Reusing TensorBoard on port 6006 (pid 11890), started 0:00:38 ago. (Use '!kill 11890' to kill it.)"
      ]
     },
     "metadata": {},
     "output_type": "display_data"
    },
    {
     "data": {
      "text/html": [
       "\n",
       "        <iframe\n",
       "            width=\"100%\"\n",
       "            height=\"600\"\n",
       "            src=\"http://localhost:6006\"\n",
       "            frameborder=\"0\"\n",
       "            allowfullscreen\n",
       "        ></iframe>\n",
       "        "
      ],
      "text/plain": [
       "<IPython.lib.display.IFrame at 0x7fc2643954a8>"
      ]
     },
     "metadata": {},
     "output_type": "display_data"
    }
   ],
   "source": [
    "%load_ext tensorboard.notebook\n",
    "%tensorboard --logdir log"
   ]
  }
 ],
 "metadata": {
  "kernelspec": {
   "display_name": "Python 3",
   "language": "python",
   "name": "python3"
  },
  "language_info": {
   "codemirror_mode": {
    "name": "ipython",
    "version": 3
   },
   "file_extension": ".py",
   "mimetype": "text/x-python",
   "name": "python",
   "nbconvert_exporter": "python",
   "pygments_lexer": "ipython3",
   "version": "3.6.7"
  }
 },
 "nbformat": 4,
 "nbformat_minor": 2
}
